{
 "cells": [
  {
   "cell_type": "markdown",
   "metadata": {},
   "source": [
    "## Deliverable 3. Create a Travel Itinerary Map."
   ]
  },
  {
   "cell_type": "code",
   "execution_count": 1,
   "metadata": {},
   "outputs": [],
   "source": [
    "# Dependencies and Setup\n",
    "import pandas as pd\n",
    "import numpy as np\n",
    "import requests\n",
    "import gmaps\n",
    "\n",
    "# Import API key\n",
    "from config import g_key\n",
    "\n",
    "# Configure gmaps\n",
    "gmaps.configure(api_key=g_key)"
   ]
  },
  {
   "cell_type": "code",
   "execution_count": 2,
   "metadata": {},
   "outputs": [
    {
     "data": {
      "text/html": [
       "<div>\n",
       "<style scoped>\n",
       "    .dataframe tbody tr th:only-of-type {\n",
       "        vertical-align: middle;\n",
       "    }\n",
       "\n",
       "    .dataframe tbody tr th {\n",
       "        vertical-align: top;\n",
       "    }\n",
       "\n",
       "    .dataframe thead th {\n",
       "        text-align: right;\n",
       "    }\n",
       "</style>\n",
       "<table border=\"1\" class=\"dataframe\">\n",
       "  <thead>\n",
       "    <tr style=\"text-align: right;\">\n",
       "      <th></th>\n",
       "      <th>City_ID</th>\n",
       "      <th>City</th>\n",
       "      <th>Country</th>\n",
       "      <th>Max Temp</th>\n",
       "      <th>Current Description</th>\n",
       "      <th>Lat</th>\n",
       "      <th>Lng</th>\n",
       "      <th>Hotel Name</th>\n",
       "    </tr>\n",
       "  </thead>\n",
       "  <tbody>\n",
       "    <tr>\n",
       "      <th>0</th>\n",
       "      <td>0</td>\n",
       "      <td>Busselton</td>\n",
       "      <td>AU</td>\n",
       "      <td>89.55</td>\n",
       "      <td>clear sky</td>\n",
       "      <td>-33.65</td>\n",
       "      <td>115.33</td>\n",
       "      <td>Observatory Guest House</td>\n",
       "    </tr>\n",
       "    <tr>\n",
       "      <th>1</th>\n",
       "      <td>8</td>\n",
       "      <td>Port Elizabeth</td>\n",
       "      <td>ZA</td>\n",
       "      <td>71.60</td>\n",
       "      <td>broken clouds</td>\n",
       "      <td>-33.92</td>\n",
       "      <td>25.57</td>\n",
       "      <td>39 On Nile Guest House</td>\n",
       "    </tr>\n",
       "    <tr>\n",
       "      <th>2</th>\n",
       "      <td>12</td>\n",
       "      <td>Rikitea</td>\n",
       "      <td>PF</td>\n",
       "      <td>77.86</td>\n",
       "      <td>clear sky</td>\n",
       "      <td>-23.12</td>\n",
       "      <td>-134.97</td>\n",
       "      <td>Pension Maro'i</td>\n",
       "    </tr>\n",
       "    <tr>\n",
       "      <th>3</th>\n",
       "      <td>14</td>\n",
       "      <td>Dubbo</td>\n",
       "      <td>AU</td>\n",
       "      <td>80.60</td>\n",
       "      <td>overcast clouds</td>\n",
       "      <td>-32.25</td>\n",
       "      <td>148.62</td>\n",
       "      <td>Comfort Inn Blue Lagoon</td>\n",
       "    </tr>\n",
       "    <tr>\n",
       "      <th>4</th>\n",
       "      <td>15</td>\n",
       "      <td>Launceston</td>\n",
       "      <td>AU</td>\n",
       "      <td>73.00</td>\n",
       "      <td>scattered clouds</td>\n",
       "      <td>-41.45</td>\n",
       "      <td>147.17</td>\n",
       "      <td>Hotel Grand Chancellor Launceston</td>\n",
       "    </tr>\n",
       "    <tr>\n",
       "      <th>...</th>\n",
       "      <td>...</td>\n",
       "      <td>...</td>\n",
       "      <td>...</td>\n",
       "      <td>...</td>\n",
       "      <td>...</td>\n",
       "      <td>...</td>\n",
       "      <td>...</td>\n",
       "      <td>...</td>\n",
       "    </tr>\n",
       "    <tr>\n",
       "      <th>222</th>\n",
       "      <td>690</td>\n",
       "      <td>Sur</td>\n",
       "      <td>OM</td>\n",
       "      <td>74.52</td>\n",
       "      <td>clear sky</td>\n",
       "      <td>22.57</td>\n",
       "      <td>59.53</td>\n",
       "      <td>Sur Plaza Hotel</td>\n",
       "    </tr>\n",
       "    <tr>\n",
       "      <th>223</th>\n",
       "      <td>691</td>\n",
       "      <td>Tautira</td>\n",
       "      <td>PF</td>\n",
       "      <td>75.20</td>\n",
       "      <td>light rain</td>\n",
       "      <td>-17.73</td>\n",
       "      <td>-149.15</td>\n",
       "      <td>Pension Oaoa</td>\n",
       "    </tr>\n",
       "    <tr>\n",
       "      <th>224</th>\n",
       "      <td>692</td>\n",
       "      <td>Voi</td>\n",
       "      <td>KE</td>\n",
       "      <td>77.31</td>\n",
       "      <td>scattered clouds</td>\n",
       "      <td>-3.39</td>\n",
       "      <td>38.56</td>\n",
       "      <td>Voi Wildlife Lodge</td>\n",
       "    </tr>\n",
       "    <tr>\n",
       "      <th>225</th>\n",
       "      <td>697</td>\n",
       "      <td>San Andres</td>\n",
       "      <td>CO</td>\n",
       "      <td>82.40</td>\n",
       "      <td>light rain</td>\n",
       "      <td>12.58</td>\n",
       "      <td>-81.70</td>\n",
       "      <td>Hotel Arena Blanca</td>\n",
       "    </tr>\n",
       "    <tr>\n",
       "      <th>226</th>\n",
       "      <td>698</td>\n",
       "      <td>Boa Vista</td>\n",
       "      <td>BR</td>\n",
       "      <td>75.20</td>\n",
       "      <td>light rain</td>\n",
       "      <td>2.82</td>\n",
       "      <td>-60.67</td>\n",
       "      <td>Aipana Plaza Hotel</td>\n",
       "    </tr>\n",
       "  </tbody>\n",
       "</table>\n",
       "<p>227 rows × 8 columns</p>\n",
       "</div>"
      ],
      "text/plain": [
       "     City_ID            City Country  Max Temp Current Description    Lat  \\\n",
       "0          0       Busselton      AU     89.55           clear sky -33.65   \n",
       "1          8  Port Elizabeth      ZA     71.60       broken clouds -33.92   \n",
       "2         12         Rikitea      PF     77.86           clear sky -23.12   \n",
       "3         14           Dubbo      AU     80.60     overcast clouds -32.25   \n",
       "4         15      Launceston      AU     73.00    scattered clouds -41.45   \n",
       "..       ...             ...     ...       ...                 ...    ...   \n",
       "222      690             Sur      OM     74.52           clear sky  22.57   \n",
       "223      691         Tautira      PF     75.20          light rain -17.73   \n",
       "224      692             Voi      KE     77.31    scattered clouds  -3.39   \n",
       "225      697      San Andres      CO     82.40          light rain  12.58   \n",
       "226      698       Boa Vista      BR     75.20          light rain   2.82   \n",
       "\n",
       "        Lng                         Hotel Name  \n",
       "0    115.33            Observatory Guest House  \n",
       "1     25.57             39 On Nile Guest House  \n",
       "2   -134.97                     Pension Maro'i  \n",
       "3    148.62            Comfort Inn Blue Lagoon  \n",
       "4    147.17  Hotel Grand Chancellor Launceston  \n",
       "..      ...                                ...  \n",
       "222   59.53                    Sur Plaza Hotel  \n",
       "223 -149.15                       Pension Oaoa  \n",
       "224   38.56                 Voi Wildlife Lodge  \n",
       "225  -81.70                 Hotel Arena Blanca  \n",
       "226  -60.67                 Aipana Plaza Hotel  \n",
       "\n",
       "[227 rows x 8 columns]"
      ]
     },
     "execution_count": 2,
     "metadata": {},
     "output_type": "execute_result"
    }
   ],
   "source": [
    "# 1. Read the WeatherPy_vacation.csv into a DataFrame.\n",
    "vacation_df = pd.read_csv(\"WeatherPy_vacation.csv\")\n",
    "vacation_df"
   ]
  },
  {
   "cell_type": "code",
   "execution_count": 3,
   "metadata": {},
   "outputs": [],
   "source": [
    "# 2. Using the template add the city name, the country code, the weather description and maximum temperature for the city.\n",
    "info_box_template = \"\"\"\n",
    "<dl>\n",
    "<dt>Hotel Name</dt><dd>{Hotel Name}</dd>\n",
    "<dt>City</dt><dd>{City}</dd>\n",
    "<dt>Country</dt><dd>{Country}</dd>\n",
    "<dt>Current Weather</dt><dd>{Current Description} and {Max Temp} °F</dd>\n",
    "</dl>\n",
    "\"\"\"\n",
    "\n",
    "# 3a. Get the data from each row and add it to the formatting template and store the data in a list.\n",
    "hotel_info = [info_box_template.format(**row) for index, row in vacation_df.iterrows()]\n",
    "\n",
    "# 3b. Get the latitude and longitude from each row and store in a new DataFrame.\n",
    "locations = vacation_df[[\"Lat\", \"Lng\"]]"
   ]
  },
  {
   "cell_type": "code",
   "execution_count": 4,
   "metadata": {},
   "outputs": [
    {
     "data": {
      "application/vnd.jupyter.widget-view+json": {
       "model_id": "333fa5554d344f7eaba7f5c7a392a8fb",
       "version_major": 2,
       "version_minor": 0
      },
      "text/plain": [
       "Figure(layout=FigureLayout(height='420px'))"
      ]
     },
     "metadata": {},
     "output_type": "display_data"
    }
   ],
   "source": [
    "# 4a. Add a marker layer for each city to the map.\n",
    "fig = gmaps.figure(center=(30.0, 31.0), zoom_level = 1.5)\n",
    "marker_layer = gmaps.marker_layer(locations, info_box_content = hotel_info)\n",
    "fig.add_layer(marker_layer)\n",
    "\n",
    "# 4b. Display the figure\n",
    "fig\n"
   ]
  },
  {
   "cell_type": "code",
   "execution_count": 5,
   "metadata": {},
   "outputs": [],
   "source": [
    "# From the map above pick 4 cities and create a vacation itinerary route to travel between the four cities. \n",
    "# 5. Create DataFrames for each city by filtering the 'vacation_df' using the loc method. \n",
    "# Hint: The starting and ending city should be the same city.\n",
    "\n",
    "vacation_start = vacation_df.loc[vacation_df[\"City\"] == \"Souillac\"]\n",
    "vacation_end = vacation_df.loc[vacation_df[\"City\"] == \"Souillac\"]\n",
    "vacation_stop1 = vacation_df.loc[(vacation_df[\"City\"] == \"Mahebourg\")]\n",
    "vacation_stop2 = vacation_df.loc[(vacation_df[\"City\"] == \"Bambous Virieux\")] \n",
    "vacation_stop3 = vacation_df.loc[(vacation_df[\"City\"] == \"Quatre Cocos\")] "
   ]
  },
  {
   "cell_type": "code",
   "execution_count": 6,
   "metadata": {},
   "outputs": [
    {
     "name": "stdout",
     "output_type": "stream",
     "text": [
      "(-20.52, 57.52) (-20.52, 57.52) (-20.41, 57.7) (-20.34, 57.76) (-20.21, 57.76)\n"
     ]
    }
   ],
   "source": [
    "# 6. Get the latitude-longitude pairs as tuples from each city DataFrame using the to_numpy function and list indexing.\n",
    "start = (vacation_start[[\"Lat\",\"Lng\"]].to_numpy()[0][0], vacation_start[[\"Lat\",\"Lng\"]].to_numpy()[0][1])\n",
    "end = (vacation_end[[\"Lat\",\"Lng\"]].to_numpy()[0][0], vacation_end[[\"Lat\",\"Lng\"]].to_numpy()[0][1])\n",
    "stop1 = (vacation_stop1[[\"Lat\",\"Lng\"]].to_numpy()[0][0], vacation_stop1[[\"Lat\",\"Lng\"]].to_numpy()[0][1])\n",
    "stop2 = (vacation_stop2[[\"Lat\",\"Lng\"]].to_numpy()[0][0], vacation_stop2[[\"Lat\",\"Lng\"]].to_numpy()[0][1])\n",
    "stop3 = (vacation_stop3[[\"Lat\",\"Lng\"]].to_numpy()[0][0], vacation_stop3[[\"Lat\",\"Lng\"]].to_numpy()[0][1])\n",
    "\n",
    "print(start, end, stop1, stop2, stop3)"
   ]
  },
  {
   "cell_type": "code",
   "execution_count": 7,
   "metadata": {
    "scrolled": true
   },
   "outputs": [
    {
     "data": {
      "application/vnd.jupyter.widget-view+json": {
       "model_id": "814be83c6abe43799dd1446cfa3f841e",
       "version_major": 2,
       "version_minor": 0
      },
      "text/plain": [
       "Figure(layout=FigureLayout(height='420px'))"
      ]
     },
     "metadata": {},
     "output_type": "display_data"
    }
   ],
   "source": [
    "# 7. Create a direction layer map using the start and end latitude-longitude pairs,\n",
    "# and stop1, stop2, and stop3 as the waypoints. The travel_mode should be \"DRIVING\", \"BICYCLING\", or \"WALKING\".\n",
    "fig = gmaps.figure()\n",
    "mauritius = gmaps.directions_layer(start, end, waypoints = [stop1, stop2, stop3], travel_mode = \"DRIVING\")\n",
    "fig.add_layer(mauritius)\n",
    "fig"
   ]
  },
  {
   "cell_type": "code",
   "execution_count": 8,
   "metadata": {},
   "outputs": [
    {
     "data": {
      "text/html": [
       "<div>\n",
       "<style scoped>\n",
       "    .dataframe tbody tr th:only-of-type {\n",
       "        vertical-align: middle;\n",
       "    }\n",
       "\n",
       "    .dataframe tbody tr th {\n",
       "        vertical-align: top;\n",
       "    }\n",
       "\n",
       "    .dataframe thead th {\n",
       "        text-align: right;\n",
       "    }\n",
       "</style>\n",
       "<table border=\"1\" class=\"dataframe\">\n",
       "  <thead>\n",
       "    <tr style=\"text-align: right;\">\n",
       "      <th></th>\n",
       "      <th>City_ID</th>\n",
       "      <th>City</th>\n",
       "      <th>Country</th>\n",
       "      <th>Max Temp</th>\n",
       "      <th>Current Description</th>\n",
       "      <th>Lat</th>\n",
       "      <th>Lng</th>\n",
       "      <th>Hotel Name</th>\n",
       "    </tr>\n",
       "  </thead>\n",
       "  <tbody>\n",
       "    <tr>\n",
       "      <th>0</th>\n",
       "      <td>191</td>\n",
       "      <td>Souillac</td>\n",
       "      <td>MU</td>\n",
       "      <td>80.6</td>\n",
       "      <td>shower rain</td>\n",
       "      <td>-20.52</td>\n",
       "      <td>57.52</td>\n",
       "      <td>Bils' Villa</td>\n",
       "    </tr>\n",
       "    <tr>\n",
       "      <th>1</th>\n",
       "      <td>191</td>\n",
       "      <td>Souillac</td>\n",
       "      <td>MU</td>\n",
       "      <td>80.6</td>\n",
       "      <td>shower rain</td>\n",
       "      <td>-20.52</td>\n",
       "      <td>57.52</td>\n",
       "      <td>Bils' Villa</td>\n",
       "    </tr>\n",
       "    <tr>\n",
       "      <th>2</th>\n",
       "      <td>202</td>\n",
       "      <td>Mahebourg</td>\n",
       "      <td>MU</td>\n",
       "      <td>80.6</td>\n",
       "      <td>shower rain</td>\n",
       "      <td>-20.41</td>\n",
       "      <td>57.70</td>\n",
       "      <td>Shandrani Beachcomber Resort &amp; Spa</td>\n",
       "    </tr>\n",
       "    <tr>\n",
       "      <th>3</th>\n",
       "      <td>94</td>\n",
       "      <td>Bambous Virieux</td>\n",
       "      <td>MU</td>\n",
       "      <td>81.0</td>\n",
       "      <td>shower rain</td>\n",
       "      <td>-20.34</td>\n",
       "      <td>57.76</td>\n",
       "      <td>Casa Tia Villa</td>\n",
       "    </tr>\n",
       "    <tr>\n",
       "      <th>4</th>\n",
       "      <td>459</td>\n",
       "      <td>Quatre Cocos</td>\n",
       "      <td>MU</td>\n",
       "      <td>81.0</td>\n",
       "      <td>shower rain</td>\n",
       "      <td>-20.21</td>\n",
       "      <td>57.76</td>\n",
       "      <td>Emeraude Beach Attitude Hotel</td>\n",
       "    </tr>\n",
       "  </tbody>\n",
       "</table>\n",
       "</div>"
      ],
      "text/plain": [
       "   City_ID             City Country  Max Temp Current Description    Lat  \\\n",
       "0      191         Souillac      MU      80.6         shower rain -20.52   \n",
       "1      191         Souillac      MU      80.6         shower rain -20.52   \n",
       "2      202        Mahebourg      MU      80.6         shower rain -20.41   \n",
       "3       94  Bambous Virieux      MU      81.0         shower rain -20.34   \n",
       "4      459     Quatre Cocos      MU      81.0         shower rain -20.21   \n",
       "\n",
       "     Lng                          Hotel Name  \n",
       "0  57.52                         Bils' Villa  \n",
       "1  57.52                         Bils' Villa  \n",
       "2  57.70  Shandrani Beachcomber Resort & Spa  \n",
       "3  57.76                      Casa Tia Villa  \n",
       "4  57.76       Emeraude Beach Attitude Hotel  "
      ]
     },
     "execution_count": 8,
     "metadata": {},
     "output_type": "execute_result"
    }
   ],
   "source": [
    "# 8. To create a marker layer map between the four cities.\n",
    "#  Combine the four city DataFrames into one DataFrame using the concat() function.\n",
    "itinerary_df = pd.concat([vacation_start, vacation_end, vacation_stop1, vacation_stop2, vacation_stop3],ignore_index=True)\n",
    "itinerary_df"
   ]
  },
  {
   "cell_type": "code",
   "execution_count": 9,
   "metadata": {},
   "outputs": [],
   "source": [
    "# 9 Using the template add city name, the country code, the weather description and maximum temperature for the city. \n",
    "info_box_template = \"\"\"\n",
    "<dl>\n",
    "<dt>Hotel Name</dt><dd>{Hotel Name}</dd>\n",
    "<dt>City</dt><dd>{City}</dd>\n",
    "<dt>Country</dt><dd>{Country}</dd>\n",
    "<dt>Current Weather</dt><dd>{Current Description} and {Max Temp} °F</dd>\n",
    "</dl>\n",
    "\"\"\"\n",
    "\n",
    "# 10a Get the data from each row and add it to the formatting template and store the data in a list.\n",
    "hotel_info = [info_box_template.format(**row) for index, row in itinerary_df.iterrows()]\n",
    "\n",
    "# 10b. Get the latitude and longitude from each row and store in a new DataFrame.\n",
    "locations = itinerary_df[[\"Lat\", \"Lng\"]]"
   ]
  },
  {
   "cell_type": "code",
   "execution_count": 10,
   "metadata": {
    "scrolled": true
   },
   "outputs": [
    {
     "data": {
      "application/vnd.jupyter.widget-view+json": {
       "model_id": "059049fc43824d699956d19e97bb6636",
       "version_major": 2,
       "version_minor": 0
      },
      "text/plain": [
       "Figure(layout=FigureLayout(height='420px'))"
      ]
     },
     "metadata": {},
     "output_type": "display_data"
    }
   ],
   "source": [
    "# 11a. Add a marker layer for each city to the map.\n",
    "fig = gmaps.figure(center=(-20.5, 58.0), zoom_level = 8)\n",
    "marker_layer = gmaps.marker_layer(locations, info_box_content = hotel_info)\n",
    "fig.add_layer(marker_layer)\n",
    "\n",
    "# 11b. Display the figure\n",
    "fig"
   ]
  },
  {
   "cell_type": "code",
   "execution_count": null,
   "metadata": {},
   "outputs": [],
   "source": []
  }
 ],
 "metadata": {
  "kernelspec": {
   "display_name": "PythonData",
   "language": "python",
   "name": "pythondata"
  },
  "language_info": {
   "codemirror_mode": {
    "name": "ipython",
    "version": 3
   },
   "file_extension": ".py",
   "mimetype": "text/x-python",
   "name": "python",
   "nbconvert_exporter": "python",
   "pygments_lexer": "ipython3",
   "version": "3.7.9"
  },
  "latex_envs": {
   "LaTeX_envs_menu_present": true,
   "autoclose": false,
   "autocomplete": true,
   "bibliofile": "biblio.bib",
   "cite_by": "apalike",
   "current_citInitial": 1,
   "eqLabelWithNumbers": true,
   "eqNumInitial": 1,
   "hotkeys": {
    "equation": "Ctrl-E",
    "itemize": "Ctrl-I"
   },
   "labels_anchors": false,
   "latex_user_defs": false,
   "report_style_numbering": false,
   "user_envs_cfg": false
  }
 },
 "nbformat": 4,
 "nbformat_minor": 2
}
